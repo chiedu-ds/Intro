{
 "cells": [
  {
   "cell_type": "markdown",
   "metadata": {},
   "source": [
    "# Developing an AI application\n",
    "\n",
    "Going forward, AI algorithms will be incorporated into more and more everyday applications. For example, you might want to include an image classifier in a smart phone app. To do this, you'd use a deep learning model trained on hundreds of thousands of images as part of the overall application architecture. A large part of software development in the future will be using these types of models as common parts of applications. \n",
    "\n",
    "In this project, you'll train an image classifier to recognize different species of flowers. You can imagine using something like this in a phone app that tells you the name of the flower your camera is looking at. In practice you'd train this classifier, then export it for use in your application. We'll be using [this dataset](http://www.robots.ox.ac.uk/~vgg/data/flowers/102/index.html) of 102 flower categories, you can see a few examples below. \n",
    "\n",
    "<img src='assets/Flowers.png' width=500px>\n",
    "\n",
    "The project is broken down into multiple steps:\n",
    "\n",
    "* Load and preprocess the image dataset\n",
    "* Train the image classifier on your dataset\n",
    "* Use the trained classifier to predict image content\n",
    "\n",
    "We'll lead you through each part which you'll implement in Python.\n",
    "\n",
    "When you've completed this project, you'll have an application that can be trained on any set of labeled images. Here your network will be learning about flowers and end up as a command line application. But, what you do with your new skills depends on your imagination and effort in building a dataset. For example, imagine an app where you take a picture of a car, it tells you what the make and model is, then looks up information about it. Go build your own dataset and make something new.\n",
    "\n",
    "First up is importing the packages you'll need. It's good practice to keep all the imports at the beginning of your code. As you work through this notebook and find you need to import a package, make sure to add the import up here.\n",
    "\n",
    "Please make sure if you are running this notebook in the workspace that you have chosen GPU rather than CPU mode."
   ]
  },
  {
   "cell_type": "code",
   "execution_count": 11,
   "metadata": {},
   "outputs": [],
   "source": [
    "# Imports here\n",
    "import torch\n",
    "from torch import nn, optim\n",
    "from torch.nn import Dropout, NLLLoss\n",
    "import torch.nn.functional as f \n",
    "from torchvision import datasets, transforms, models\n",
    "from workspace_utils import active_session\n",
    "from PIL import Image \n",
    "from matplotlib import pyplot as plt\n",
    "import numpy as np\n",
    "from sklearn.preprocessing import StandardScaler as ss\n",
    "scaler=ss()\n",
    "\n",
    "   "
   ]
  },
  {
   "cell_type": "markdown",
   "metadata": {},
   "source": [
    "## Load the data\n",
    "\n",
    "Here you'll use `torchvision` to load the data ([documentation](http://pytorch.org/docs/0.3.0/torchvision/index.html)). The data should be included alongside this notebook, otherwise you can [download it here](https://s3.amazonaws.com/content.udacity-data.com/nd089/flower_data.tar.gz). The dataset is split into three parts, training, validation, and testing. For the training, you'll want to apply transformations such as random scaling, cropping, and flipping. This will help the network generalize leading to better performance. You'll also need to make sure the input data is resized to 224x224 pixels as required by the pre-trained networks.\n",
    "\n",
    "The validation and testing sets are used to measure the model's performance on data it hasn't seen yet. For this you don't want any scaling or rotation transformations, but you'll need to resize then crop the images to the appropriate size.\n",
    "\n",
    "The pre-trained networks you'll use were trained on the ImageNet dataset where each color channel was normalized separately. For all three sets you'll need to normalize the means and standard deviations of the images to what the network expects. For the means, it's `[0.485, 0.456, 0.406]` and for the standard deviations `[0.229, 0.224, 0.225]`, calculated from the ImageNet images.  These values will shift each color channel to be centered at 0 and range from -1 to 1.\n",
    " "
   ]
  },
  {
   "cell_type": "code",
   "execution_count": 12,
   "metadata": {},
   "outputs": [],
   "source": [
    "data_dir = 'flowers'\n",
    "train_dir = data_dir + '/train'\n",
    "valid_dir = data_dir + '/valid'\n",
    "test_dir = data_dir + '/test'"
   ]
  },
  {
   "cell_type": "code",
   "execution_count": 13,
   "metadata": {},
   "outputs": [],
   "source": [
    "# TODO: Define your transforms for the training, validation, and testing sets\n",
    "data_transforms_train = transforms.Compose([transforms.RandomRotation(30),\n",
    "                                           transforms.RandomResizedCrop(224),\n",
    "                                           transforms.RandomHorizontalFlip(),\n",
    "                                           transforms.ToTensor(),\n",
    "                                           transforms.Normalize([0.485, 0.456, 0.406],\n",
    "                                                            [0.229, 0.224, 0.225])])\n",
    "\n",
    "data_transforms_test = transforms.Compose([transforms.Resize(224),\n",
    "                                          transforms.CenterCrop(224),\n",
    "                                          transforms.ToTensor(),\n",
    "                                          transforms.Normalize([0.485, 0.456, 0.406],\n",
    "                                                            [0.229, 0.224, 0.225])])\n",
    "\n",
    "\n",
    "\n",
    "# TODO: Load the datasets with ImageFolder\n",
    "train_image_datasets = datasets.ImageFolder(train_dir,transform=data_transforms_train)\n",
    "test_image_datasets = datasets.ImageFolder(test_dir, transform=data_transforms_test)\n",
    "valid_image_datasets = datasets.ImageFolder(valid_dir, transform=data_transforms_test)\n",
    "# TODO: Using the image datasets and the trainforms, define the dataloaders\n",
    "dataloaders = {'trainloader':torch.utils.data.DataLoader(train_image_datasets, batch_size=64, shuffle=True),\n",
    "               'testloader' :torch.utils.data.DataLoader(test_image_datasets, batch_size=64),\n",
    "               'validloader':torch.utils.data.DataLoader(valid_image_datasets, batch_size=64)}"
   ]
  },
  {
   "cell_type": "markdown",
   "metadata": {},
   "source": [
    "### Label mapping\n",
    "\n",
    "You'll also need to load in a mapping from category label to category name. You can find this in the file `cat_to_name.json`. It's a JSON object which you can read in with the [`json` module](https://docs.python.org/2/library/json.html). This will give you a dictionary mapping the integer encoded categories to the actual names of the flowers."
   ]
  },
  {
   "cell_type": "code",
   "execution_count": 14,
   "metadata": {},
   "outputs": [],
   "source": [
    "import json\n",
    "\n",
    "with open('cat_to_name.json', 'r') as f:\n",
    "    cat_to_name = json.load(f)"
   ]
  },
  {
   "cell_type": "markdown",
   "metadata": {},
   "source": [
    "# Building and training the classifier\n",
    "\n",
    "Now that the data is ready, it's time to build and train the classifier. As usual, you should use one of the pretrained models from `torchvision.models` to get the image features. Build and train a new feed-forward classifier using those features.\n",
    "\n",
    "We're going to leave this part up to you. Refer to [the rubric](https://review.udacity.com/#!/rubrics/1663/view) for guidance on successfully completing this section. Things you'll need to do:\n",
    "\n",
    "* Load a [pre-trained network](http://pytorch.org/docs/master/torchvision/models.html) (If you need a starting point, the VGG networks work great and are straightforward to use)\n",
    "* Define a new, untrained feed-forward network as a classifier, using ReLU activations and dropout\n",
    "* Train the classifier layers using backpropagation using the pre-trained network to get the features\n",
    "* Track the loss and accuracy on the validation set to determine the best hyperparameters\n",
    "\n",
    "We've left a cell open for you below, but use as many as you need. Our advice is to break the problem up into smaller parts you can run separately. Check that each part is doing what you expect, then move on to the next. You'll likely find that as you work through each part, you'll need to go back and modify your previous code. This is totally normal!\n",
    "\n",
    "When training make sure you're updating only the weights of the feed-forward network. You should be able to get the validation accuracy above 70% if you build everything right. Make sure to try different hyperparameters (learning rate, units in the classifier, epochs, etc) to find the best model. Save those hyperparameters to use as default values in the next part of the project.\n",
    "\n",
    "One last important tip if you're using the workspace to run your code: To avoid having your workspace disconnect during the long-running tasks in this notebook, please read in the earlier page in this lesson called Intro to GPU Workspaces about Keeping Your Session Active. You'll want to include code from the workspace_utils.py module."
   ]
  },
  {
   "cell_type": "code",
   "execution_count": 15,
   "metadata": {},
   "outputs": [],
   "source": [
    "# TODO: Build and train your network\n",
    "\n",
    "#Loading model from torchvision and freezing it's feature parameters\n",
    "model=models.resnet152(pretrained=True)\n",
    "for param in model.parameters():\n",
    "    param.requires_grad=False\n"
   ]
  },
  {
   "cell_type": "code",
   "execution_count": 75,
   "metadata": {},
   "outputs": [],
   "source": [
    "#Defining model architecture\n",
    "model.fc=nn.Sequential(nn.Linear(2048,1024),\n",
    "                       nn.ReLU(),\n",
    "                       Dropout(0.2),\n",
    "                       nn.Linear(1024,512),\n",
    "                       nn.ReLU(),\n",
    "                       Dropout(0.2),\n",
    "                       nn.Linear(512,102),\n",
    "                       nn.LogSoftmax(dim=1))\n",
    "\n"
   ]
  },
  {
   "cell_type": "code",
   "execution_count": 76,
   "metadata": {},
   "outputs": [],
   "source": [
    "#Setting Hyperparameters and other helper variables\n",
    "steps=0\n",
    "print_every=10\n",
    "epochs=10\n",
    "validation_loss=0\n",
    "criterion=NLLLoss()\n"
   ]
  },
  {
   "cell_type": "code",
   "execution_count": 91,
   "metadata": {
    "scrolled": false
   },
   "outputs": [
    {
     "name": "stdout",
     "output_type": "stream",
     "text": [
      "Validation Accuracy is: 0.07451923076923077...Validation loss is : 4.44194193986746...\n",
      "Validation Accuracy is: 0.0829326923076923...Validation loss is : 4.265232709737925...\n",
      "Validation Accuracy is: 0.10216346153846154...Validation loss is : 3.9477965281559873...\n",
      "Validation Accuracy is: 0.20336538553237915...Validation loss is : 3.6124192751370945...\n",
      "Validation Accuracy is: 0.3310096154992397...Validation loss is : 3.1772603071652927...\n",
      "Validation Accuracy is: 0.3057692308838551...Validation loss is : 2.7516814470291138...\n",
      "Validation Accuracy is: 0.3915865386907871...Validation loss is : 2.432927571810209...\n",
      "Validation Accuracy is: 0.4474999996332022...Validation loss is : 2.1762148233560414...\n",
      "Validation Accuracy is: 0.520624999816601...Validation loss is : 1.9616699860646174...\n",
      "Validation Accuracy is: 0.5392307684971736...Validation loss is : 1.7601180305847755...\n",
      "Validation Accuracy is: 0.6103846155680143...Validation loss is : 1.5204035639762878...\n",
      "Validation Accuracy is: 0.640625...Validation loss is : 1.3628641000160804...\n",
      "Validation Accuracy is: 0.6392307694141681...Validation loss is : 1.3547662496566772...\n",
      "Validation Accuracy is: 0.6367307695058676...Validation loss is : 1.339291661977768...\n",
      "Validation Accuracy is: 0.6925961558635418...Validation loss is : 1.1220687547555337...\n",
      "Validation Accuracy is: 0.69884615448805...Validation loss is : 1.143047992999737...\n",
      "Validation Accuracy is: 0.6991826914823972...Validation loss is : 1.0618007205999815...\n",
      "Validation Accuracy is: 0.7362019236271198...Validation loss is : 0.9878731369972229...\n",
      "Validation Accuracy is: 0.6878365369943472...Validation loss is : 1.0551686034752772...\n",
      "Validation Accuracy is: 0.7307211527457604...Validation loss is : 0.9664438458589407...\n",
      "Validation Accuracy is: 0.7722596159348121...Validation loss is : 0.8710500322855436...\n",
      "Validation Accuracy is: 0.778125001833989...Validation loss is : 0.8755641315992062...\n",
      "Validation Accuracy is: 0.7818750005501968...Validation loss is : 0.8050683576327103...\n",
      "Validation Accuracy is: 0.7874038448700538...Validation loss is : 0.7743523258429307...\n",
      "Validation Accuracy is: 0.7859615362607516...Validation loss is : 0.7951237903191493...\n",
      "Validation Accuracy is: 0.7988942311360285...Validation loss is : 0.7703626809211878...\n",
      "Validation Accuracy is: 0.8024519223433274...Validation loss is : 0.7298727024060029...\n",
      "Validation Accuracy is: 0.8055288470708407...Validation loss is : 0.7068432764365122...\n",
      "Validation Accuracy is: 0.809663460804866...Validation loss is : 0.7231534702273515...\n",
      "Validation Accuracy is: 0.8186057714315561...Validation loss is : 0.6940598143981054...\n",
      "Validation Accuracy is: 0.7758653851655813...Validation loss is : 0.7801512479782104...\n",
      "Validation Accuracy is: 0.8192788454202505...Validation loss is : 0.6424429399462847...\n",
      "Validation Accuracy is: 0.8178846148344187...Validation loss is : 0.6122283121714225...\n",
      "Validation Accuracy is: 0.821201925094311...Validation loss is : 0.6317609061415379...\n",
      "Validation Accuracy is: 0.8280288439530593...Validation loss is : 0.6585399462626531...\n",
      "Validation Accuracy is: 0.829759616118211...Validation loss is : 0.5817248775408819...\n",
      "Validation Accuracy is: 0.8330288483546331...Validation loss is : 0.6076945851628597...\n",
      "Validation Accuracy is: 0.8371153840651879...Validation loss is : 0.5767909391568258...\n",
      "Validation Accuracy is: 0.8009134622720572...Validation loss is : 0.6740447214016547...\n",
      "Validation Accuracy is: 0.8364423054915208...Validation loss is : 0.6029495940758631...\n",
      "Validation Accuracy is: 0.857740383881789...Validation loss is : 0.5450137750460551...\n",
      "Validation Accuracy is: 0.8436538439530593...Validation loss is : 0.5516126837867957...\n",
      "Validation Accuracy is: 0.8626923056749197...Validation loss is : 0.5220929854191266...\n",
      "Validation Accuracy is: 0.8596153855323792...Validation loss is : 0.5161370910131015...\n",
      "Validation Accuracy is: 0.8676923054915208...Validation loss is : 0.4909415313830742...\n",
      "Validation Accuracy is: 0.8628846131838285...Validation loss is : 0.5475501091434405...\n",
      "Validation Accuracy is: 0.8596153855323792...Validation loss is : 0.48316175719866383...\n",
      "Validation Accuracy is: 0.882596153479356...Validation loss is : 0.46132878901866764...\n",
      "Validation Accuracy is: 0.8544711516453669...Validation loss is : 0.5043793377967981...\n",
      "Validation Accuracy is: 0.8367788470708407...Validation loss is : 0.5427232911953559...\n",
      "Validation Accuracy is: 0.8601442300356351...Validation loss is : 0.5482975000945421...\n",
      "Validation Accuracy is: 0.8862019227101252...Validation loss is : 0.42738833736914855...\n",
      "Validation Accuracy is: 0.8791826917574956...Validation loss is : 0.4584780315367075...\n",
      "Validation Accuracy is: 0.8709134597044724...Validation loss is : 0.47931817489174694...\n",
      "Validation Accuracy is: 0.8765865380947406...Validation loss is : 0.40631220088555264...\n",
      "Validation Accuracy is: 0.8671634609882648...Validation loss is : 0.4592898808992826...\n",
      "Validation Accuracy is: 0.8597596150178176...Validation loss is : 0.4893779849203733...\n",
      "Validation Accuracy is: 0.8822596164850088...Validation loss is : 0.44166713293928367...\n",
      "Validation Accuracy is: 0.8755769225267264...Validation loss is : 0.4194293887569354...\n",
      "Validation Accuracy is: 0.8676923054915208...Validation loss is : 0.4602989898278163...\n",
      "Validation Accuracy is: 0.8743749994498032...Validation loss is : 0.45014471961901736...\n",
      "Validation Accuracy is: 0.8621634611716638...Validation loss is : 0.5099107233377603...\n",
      "Validation Accuracy is: 0.8817307673967801...Validation loss is : 0.4184294893191411...\n",
      "Validation Accuracy is: 0.8827884609882648...Validation loss is : 0.4305302675526876...\n",
      "Validation Accuracy is: 0.8870673087927011...Validation loss is : 0.39217547327280045...\n",
      "Validation Accuracy is: 0.8916826935914847...Validation loss is : 0.3976697087861024...\n",
      "Validation Accuracy is: 0.9006249996332022...Validation loss is : 0.38534464228611726...\n",
      "Validation Accuracy is: 0.8742307699643649...Validation loss is : 0.43500165526683515...\n",
      "Validation Accuracy is: 0.8803846148344187...Validation loss is : 0.43503410254533476...\n",
      "Validation Accuracy is: 0.8704326932246869...Validation loss is : 0.45121362060308456...\n",
      "Validation Accuracy is: 0.8922115380947406...Validation loss is : 0.42518530184259784...\n",
      "Validation Accuracy is: 0.9153846135506263...Validation loss is : 0.3612383830432708...\n",
      "Validation Accuracy is: 0.9006249996332022...Validation loss is : 0.40442949533462524...\n",
      "Validation Accuracy is: 0.8903365364441505...Validation loss is : 0.411453909598864...\n",
      "Validation Accuracy is: 0.8812019228935242...Validation loss is : 0.41915439928953463...\n",
      "Validation Accuracy is: 0.8915384595210736...Validation loss is : 0.38071883527132183...\n",
      "Validation Accuracy is: 0.8777884611716638...Validation loss is : 0.48800909977692825...\n",
      "Validation Accuracy is: 0.898221153479356...Validation loss is : 0.3829360535511604...\n",
      "Validation Accuracy is: 0.8915384595210736...Validation loss is : 0.39418890699744225...\n",
      "Validation Accuracy is: 0.8966826934080857...Validation loss is : 0.3888494676122299...\n",
      "Validation Accuracy is: 0.8759134595210736...Validation loss is : 0.40461804459874445...\n",
      "Validation Accuracy is: 0.9006249996332022...Validation loss is : 0.37481602682517123...\n",
      "Validation Accuracy is: 0.8891346133672274...Validation loss is : 0.3769988686992572...\n",
      "Validation Accuracy is: 0.9006249996332022...Validation loss is : 0.3570401748785606...\n",
      "Validation Accuracy is: 0.8893269208761362...Validation loss is : 0.39679424034861416...\n",
      "Validation Accuracy is: 0.8968269228935242...Validation loss is : 0.39621001195449096...\n",
      "Validation Accuracy is: 0.8996153840651879...Validation loss is : 0.3444982941907186...\n",
      "Validation Accuracy is: 0.9037019243607154...Validation loss is : 0.3607863015853442...\n",
      "Validation Accuracy is: 0.9000961551299462...Validation loss is : 0.3594142986604801...\n",
      "Validation Accuracy is: 0.9038942318696243...Validation loss is : 0.37009627372026443...\n",
      "Validation Accuracy is: 0.8944711547631484...Validation loss is : 0.38512821753437704...\n",
      "Validation Accuracy is: 0.9075000011003934...Validation loss is : 0.3543955213748492...\n",
      "Validation Accuracy is: 0.8910096150178176...Validation loss is : 0.35930056354174245...\n",
      "Validation Accuracy is: 0.8976923089761001...Validation loss is : 0.37886402985224354...\n",
      "Validation Accuracy is: 0.896490385899177...Validation loss is : 0.39585080771492076...\n",
      "Validation Accuracy is: 0.88692307472229...Validation loss is : 0.43304131208704066...\n",
      "Validation Accuracy is: 0.9232692305858319...Validation loss is : 0.3383441876906615...\n",
      "Validation Accuracy is: 0.8934134611716638...Validation loss is : 0.37952892310344255...\n",
      "Validation Accuracy is: 0.897548074905689...Validation loss is : 0.34589318759166277...\n",
      "Validation Accuracy is: 0.8960096148344187...Validation loss is : 0.3762287792678063...\n"
     ]
    }
   ],
   "source": [
    "#Training Network\n",
    "device = torch.device(\"cuda\" if torch.cuda.is_available() else \"cpu\")\n",
    "model.to(device)\n",
    "optimizer=optim.Adam(model.fc.parameters(), lr=0.001)\n",
    "with active_session():\n",
    "\n",
    "     for e in range(epochs):\n",
    "        steps=0        \n",
    "        for images, lables in dataloaders['trainloader']:\n",
    "            steps+=1\n",
    "            images, lables = images.to(device), lables.to(device)\n",
    "        \n",
    "            optimizer.zero_grad()\n",
    "            logists=model(images)\n",
    "            loss=criterion(logists, lables)\n",
    "            loss.backward()\n",
    "            optimizer.step()\n",
    "        \n",
    "            if steps % print_every == 0:\n",
    "                accuracy=0\n",
    "                model.eval()\n",
    "                validation_loss=0\n",
    "                with torch.no_grad():\n",
    "                    \n",
    "                    for images, lables in dataloaders['validloader']:\n",
    "                        images, lables = images.to(device), lables.to(device)\n",
    "                        logits=model(images)\n",
    "                        new_loss=criterion(logits, lables)\n",
    "                        validation_loss+=new_loss.item()\n",
    "                        #calculating accuracy\n",
    "                        ps=torch.exp(logits)\n",
    "                        top_p, top_class=ps.topk(1,dim=1)\n",
    "                        equal=top_class==lables.view(*top_class.shape)\n",
    "                        accuracy+=torch.mean(equal.type(torch.FloatTensor)).item()\n",
    "                    model.train() \n",
    "                    print (f\"Validation Accuracy is: {accuracy/len(dataloaders['validloader'])}...\"\n",
    "                           f\"Validation loss is : {validation_loss/len(dataloaders['validloader'])}...\"\n",
    "                           )\n",
    "                \n",
    "                \n",
    "\n",
    "                \n",
    "                "
   ]
  },
  {
   "cell_type": "markdown",
   "metadata": {},
   "source": [
    "## Testing your network\n",
    "\n",
    "It's good practice to test your trained network on test data, images the network has never seen either in training or validation. This will give you a good estimate for the model's performance on completely new images. Run the test images through the network and measure the accuracy, the same way you did validation. You should be able to reach around 70% accuracy on the test set if the model has been trained well."
   ]
  },
  {
   "cell_type": "code",
   "execution_count": 10,
   "metadata": {},
   "outputs": [
    {
     "name": "stdout",
     "output_type": "stream",
     "text": [
      "Accuracy is :0.8815516600242028\n"
     ]
    }
   ],
   "source": [
    "# TODO: Do validation on the test set\n",
    "\n",
    "device = torch.device(\"cuda\" if torch.cuda.is_available() else \"cpu\")\n",
    "model.eval()\n",
    "model.to(device)\n",
    "with torch.no_grad():\n",
    "    accuracy=0\n",
    "    for images, lables in dataloaders['testloader']:\n",
    "        images, lables=images.to(device), lables.to(device)\n",
    "        logps=torch.exp(model(images))\n",
    "        top_p, top_class=logps.topk(1,dim=1)\n",
    "        equals=top_class==lables.view(*top_class.shape)\n",
    "        accuracy+=torch.mean(equals.type(torch.FloatTensor)).item()\n",
    "    print(f\"Accuracy is :{accuracy/len(dataloaders['testloader'])}\")\n",
    "         \n",
    "        "
   ]
  },
  {
   "cell_type": "markdown",
   "metadata": {},
   "source": [
    "## Save the checkpoint\n",
    "\n",
    "Now that your network is trained, save the model so you can load it later for making predictions. You probably want to save other things such as the mapping of classes to indices which you get from one of the image datasets: `image_datasets['train'].class_to_idx`. You can attach this to the model as an attribute which makes inference easier later on.\n",
    "\n",
    "```model.class_to_idx = image_datasets['train'].class_to_idx```\n",
    "\n",
    "Remember that you'll want to completely rebuild the model later so you can use it for inference. Make sure to include any information you need in the checkpoint. If you want to load the model and keep training, you'll want to save the number of epochs as well as the optimizer state, `optimizer.state_dict`. You'll likely want to use this trained model in the next part of the project, so best to save it now."
   ]
  },
  {
   "cell_type": "code",
   "execution_count": null,
   "metadata": {},
   "outputs": [],
   "source": [
    "# TODO: Save the checkpoint \n",
    "#model.to('cpu')\n",
    "checkpoint={'state_dict':model.state_dict(),\n",
    "            'architecture':nn.Sequential(nn.Linear(2048,1024),\n",
    "                           nn.ReLU(),\n",
    "                           Dropout(0.2),\n",
    "                           nn.Linear(1024,512),\n",
    "                           nn.ReLU(),\n",
    "                           Dropout(0.2),\n",
    "                           nn.Linear(512,102),\n",
    "                           nn.LogSoftmax(dim=1))}\n",
    "torch.save(checkpoint,'checkpoint.pth')"
   ]
  },
  {
   "cell_type": "markdown",
   "metadata": {},
   "source": [
    "## Loading the checkpoint\n",
    "\n",
    "At this point it's good to write a function that can load a checkpoint and rebuild the model. That way you can come back to this project and keep working on it without having to retrain the network."
   ]
  },
  {
   "cell_type": "code",
   "execution_count": 16,
   "metadata": {},
   "outputs": [],
   "source": [
    "# TODO: Write a function that loads a checkpoint and rebuilds the model\n",
    "def load_checkpoint(filepath):\n",
    "    checkpoint=torch.load(filepath)\n",
    "    model.fc=checkpoint['architecture']\n",
    "    model.load_state_dict(checkpoint['state_dict'])\n",
    "    return model\n",
    "    \n",
    "    \n",
    "model=load_checkpoint('checkpoint.pth')    "
   ]
  },
  {
   "cell_type": "markdown",
   "metadata": {},
   "source": [
    "# Inference for classification\n",
    "\n",
    "Now you'll write a function to use a trained network for inference. That is, you'll pass an image into the network and predict the class of the flower in the image. Write a function called `predict` that takes an image and a model, then returns the top $K$ most likely classes along with the probabilities. It should look like \n",
    "\n",
    "```python\n",
    "probs, classes = predict(image_path, model)\n",
    "print(probs)\n",
    "print(classes)\n",
    "> [ 0.01558163  0.01541934  0.01452626  0.01443549  0.01407339]\n",
    "> ['70', '3', '45', '62', '55']\n",
    "```\n",
    "\n",
    "First you'll need to handle processing the input image such that it can be used in your network. \n",
    "\n",
    "## Image Preprocessing\n",
    "\n",
    "You'll want to use `PIL` to load the image ([documentation](https://pillow.readthedocs.io/en/latest/reference/Image.html)). It's best to write a function that preprocesses the image so it can be used as input for the model. This function should process the images in the same manner used for training. \n",
    "\n",
    "First, resize the images where the shortest side is 256 pixels, keeping the aspect ratio. This can be done with the [`thumbnail`](http://pillow.readthedocs.io/en/3.1.x/reference/Image.html#PIL.Image.Image.thumbnail) or [`resize`](http://pillow.readthedocs.io/en/3.1.x/reference/Image.html#PIL.Image.Image.thumbnail) methods. Then you'll need to crop out the center 224x224 portion of the image.\n",
    "\n",
    "Color channels of images are typically encoded as integers 0-255, but the model expected floats 0-1. You'll need to convert the values. It's easiest with a Numpy array, which you can get from a PIL image like so `np_image = np.array(pil_image)`.\n",
    "\n",
    "As before, the network expects the images to be normalized in a specific way. For the means, it's `[0.485, 0.456, 0.406]` and for the standard deviations `[0.229, 0.224, 0.225]`. You'll want to subtract the means from each color channel, then divide by the standard deviation. \n",
    "\n",
    "And finally, PyTorch expects the color channel to be the first dimension but it's the third dimension in the PIL image and Numpy array. You can reorder dimensions using [`ndarray.transpose`](https://docs.scipy.org/doc/numpy-1.13.0/reference/generated/numpy.ndarray.transpose.html). The color channel needs to be first and retain the order of the other two dimensions."
   ]
  },
  {
   "cell_type": "code",
   "execution_count": 17,
   "metadata": {},
   "outputs": [],
   "source": [
    "def process_image(image):\n",
    "    ''' Scales, crops, and normalizes a PIL image for a PyTorch model,\n",
    "        returns an Numpy array\n",
    "    '''\n",
    "    # TODO: Process a PIL image for use in a PyTorch model\n",
    "    im=Image.open(image)\n",
    "    trans=transforms.Compose([transforms.Resize(256),\n",
    "                          transforms.CenterCrop(224),\n",
    "                          transforms.ToTensor(),\n",
    "                          transforms.Normalize([0.485, 0.456, 0.406],\n",
    "                                             [0.229, 0.224, 0.225])])\n",
    "    \n",
    "                                         \n",
    "    trans_image=trans(im)\n",
    "    array=np.asarray(trans_image)\n",
    "    return array  "
   ]
  },
  {
   "cell_type": "markdown",
   "metadata": {},
   "source": [
    "To check your work, the function below converts a PyTorch tensor and displays it in the notebook. If your `process_image` function works, running the output through this function should return the original image (except for the cropped out portions)."
   ]
  },
  {
   "cell_type": "code",
   "execution_count": 18,
   "metadata": {},
   "outputs": [],
   "source": [
    "def imshow(image, ax=None, title=None):\n",
    "    if ax is None:\n",
    "        fig, ax = plt.subplots()\n",
    "    \n",
    "    # PyTorch tensors assume the color channel is the first dimension\n",
    "    # but matplotlib assumes is the third dimension\n",
    "    image = image.transpose(1, 2)\n",
    "    \n",
    "    # Undo preprocessing\n",
    "    mean = np.array([0.485, 0.456, 0.406])\n",
    "    std = np.array([0.229, 0.224, 0.225])\n",
    "    image = std * image + mean\n",
    "    \n",
    "    # Image needs to be clipped between 0 and 1 or it looks like noise when displayed\n",
    "    image = np.clip(image, 0, 1)\n",
    "    \n",
    "    ax.imshow(image)\n",
    "    \n",
    "    return ax"
   ]
  },
  {
   "cell_type": "markdown",
   "metadata": {},
   "source": [
    "## Class Prediction\n",
    "\n",
    "Once you can get images in the correct format, it's time to write a function for making predictions with your model. A common practice is to predict the top 5 or so (usually called top-$K$) most probable classes. You'll want to calculate the class probabilities then find the $K$ largest values.\n",
    "\n",
    "To get the top $K$ largest values in a tensor use [`x.topk(k)`](http://pytorch.org/docs/master/torch.html#torch.topk). This method returns both the highest `k` probabilities and the indices of those probabilities corresponding to the classes. You need to convert from these indices to the actual class labels using `class_to_idx` which hopefully you added to the model or from an `ImageFolder` you used to load the data ([see here](#Save-the-checkpoint)). Make sure to invert the dictionary so you get a mapping from index to class as well.\n",
    "\n",
    "Again, this method should take a path to an image and a model checkpoint, then return the probabilities and classes.\n",
    "\n",
    "```python\n",
    "probs, classes = predict(image_path, model)\n",
    "print(probs)\n",
    "print(classes)\n",
    "> [ 0.01558163  0.01541934  0.01452626  0.01443549  0.01407339]\n",
    "> ['70', '3', '45', '62', '55']\n",
    "```"
   ]
  },
  {
   "cell_type": "code",
   "execution_count": 19,
   "metadata": {},
   "outputs": [],
   "source": [
    "def predict(image_path, model, topk=5):\n",
    "    ''' Predict the class (or classes) of an image using a trained deep learning model.\n",
    "    '''\n",
    "    #model.eval()\n",
    "    image=torch.FloatTensor(process_image(image_path))\n",
    "    image=image.unsqueeze(0)\n",
    "    logps=model(image)\n",
    "    ps=torch.exp(logps)\n",
    "    top_p, top_class=ps.topk(topk,dim=1)\n",
    "    return top_p.detach().numpy(),top_class.detach().numpy()\n",
    "\n",
    "    # TODO: Implement the code to predict the class from an image file"
   ]
  },
  {
   "cell_type": "markdown",
   "metadata": {},
   "source": [
    "## Sanity Checking\n",
    "\n",
    "Now that you can use a trained model for predictions, check to make sure it makes sense. Even if the testing accuracy is high, it's always good to check that there aren't obvious bugs. Use `matplotlib` to plot the probabilities for the top 5 classes as a bar graph, along with the input image. It should look like this:\n",
    "\n",
    "<img src='assets/inference_example.png' width=300px>\n",
    "\n",
    "You can convert from the class integer encoding to actual flower names with the `cat_to_name.json` file (should have been loaded earlier in the notebook). To show a PyTorch tensor as an image, use the `imshow` function defined above."
   ]
  },
  {
   "cell_type": "code",
   "execution_count": 33,
   "metadata": {},
   "outputs": [
    {
     "ename": "ValueError",
     "evalue": "axes don't match array",
     "output_type": "error",
     "traceback": [
      "\u001b[0;31m---------------------------------------------------------------------------\u001b[0m",
      "\u001b[0;31mValueError\u001b[0m                                Traceback (most recent call last)",
      "\u001b[0;32m<ipython-input-33-74a2cbb95b82>\u001b[0m in \u001b[0;36m<module>\u001b[0;34m()\u001b[0m\n\u001b[1;32m      2\u001b[0m \u001b[0mpath\u001b[0m\u001b[0;34m=\u001b[0m\u001b[0;34m'/home/workspace/Toad_lily.jpg'\u001b[0m\u001b[0;34m\u001b[0m\u001b[0m\n\u001b[1;32m      3\u001b[0m \u001b[0mshow_image\u001b[0m\u001b[0;34m=\u001b[0m\u001b[0mprocess_image\u001b[0m\u001b[0;34m(\u001b[0m\u001b[0mpath\u001b[0m\u001b[0;34m)\u001b[0m\u001b[0;34m\u001b[0m\u001b[0m\n\u001b[0;32m----> 4\u001b[0;31m \u001b[0mimshow\u001b[0m\u001b[0;34m(\u001b[0m\u001b[0mshow_image\u001b[0m\u001b[0;34m)\u001b[0m\u001b[0;34m\u001b[0m\u001b[0m\n\u001b[0m\u001b[1;32m      5\u001b[0m \u001b[0mprobs_x\u001b[0m\u001b[0;34m,\u001b[0m\u001b[0my_labels\u001b[0m\u001b[0;34m=\u001b[0m\u001b[0mpredict\u001b[0m\u001b[0;34m(\u001b[0m\u001b[0mpath\u001b[0m\u001b[0;34m,\u001b[0m\u001b[0mmodel\u001b[0m\u001b[0;34m)\u001b[0m\u001b[0;34m\u001b[0m\u001b[0m\n\u001b[1;32m      6\u001b[0m \u001b[0mindex\u001b[0m \u001b[0;34m=\u001b[0m \u001b[0my_labels\u001b[0m\u001b[0;34m[\u001b[0m\u001b[0;36m0\u001b[0m\u001b[0;34m]\u001b[0m\u001b[0;34m\u001b[0m\u001b[0m\n",
      "\u001b[0;32m<ipython-input-18-458653352799>\u001b[0m in \u001b[0;36mimshow\u001b[0;34m(image, ax, title)\u001b[0m\n\u001b[1;32m      5\u001b[0m     \u001b[0;31m# PyTorch tensors assume the color channel is the first dimension\u001b[0m\u001b[0;34m\u001b[0m\u001b[0;34m\u001b[0m\u001b[0m\n\u001b[1;32m      6\u001b[0m     \u001b[0;31m# but matplotlib assumes is the third dimension\u001b[0m\u001b[0;34m\u001b[0m\u001b[0;34m\u001b[0m\u001b[0m\n\u001b[0;32m----> 7\u001b[0;31m     \u001b[0mimage\u001b[0m \u001b[0;34m=\u001b[0m \u001b[0mimage\u001b[0m\u001b[0;34m.\u001b[0m\u001b[0mtranspose\u001b[0m\u001b[0;34m(\u001b[0m\u001b[0;36m1\u001b[0m\u001b[0;34m,\u001b[0m \u001b[0;36m2\u001b[0m\u001b[0;34m)\u001b[0m\u001b[0;34m\u001b[0m\u001b[0m\n\u001b[0m\u001b[1;32m      8\u001b[0m \u001b[0;34m\u001b[0m\u001b[0m\n\u001b[1;32m      9\u001b[0m     \u001b[0;31m# Undo preprocessing\u001b[0m\u001b[0;34m\u001b[0m\u001b[0;34m\u001b[0m\u001b[0m\n",
      "\u001b[0;31mValueError\u001b[0m: axes don't match array"
     ]
    },
    {
     "data": {
      "image/png": "[encoded data removed]",
      "text/plain": [
       "<matplotlib.figure.Figure at 0x7efdd8190320>"
      ]
     },
     "metadata": {
      "needs_background": "light"
     },
     "output_type": "display_data"
    }
   ],
   "source": [
    "# TODO: Display an image along with the top 5 classes\n",
    "path='/home/workspace/Toad_lily.jpg'\n",
    "show_image=process_image(path)\n",
    "imshow(show_image)\n",
    "probs_x,y_labels=predict(path,model)\n",
    "index = y_labels[0]\n",
    "names= [cat_to_name[str(name)] for name in index]\n",
    "y_pos= np.arange(len(names))\n",
    "plt.barh(y_pos, probs_x.squeeze(), align='center')\n",
    "plt.yticks(y_pos, names)\n",
    "plt.show()"
   ]
  },
  {
   "cell_type": "code",
   "execution_count": null,
   "metadata": {},
   "outputs": [],
   "source": []
  }
 ],
 "metadata": {
  "kernelspec": {
   "display_name": "Python 3",
   "language": "python",
   "name": "python3"
  },
  "language_info": {
   "codemirror_mode": {
    "name": "ipython",
    "version": 3
   },
   "file_extension": ".py",
   "mimetype": "text/x-python",
   "name": "python",
   "nbconvert_exporter": "python",
   "pygments_lexer": "ipython3",
   "version": "3.6.3"
  }
 },
 "nbformat": 4,
 "nbformat_minor": 2
}
