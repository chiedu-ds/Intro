{
 "cells": [
  {
   "cell_type": "markdown",
   "metadata": {},
   "source": [
    "# Developing an AI application\n",
    "\n",
    "Going forward, AI algorithms will be incorporated into more and more everyday applications. For example, you might want to include an image classifier in a smart phone app. To do this, you'd use a deep learning model trained on hundreds of thousands of images as part of the overall application architecture. A large part of software development in the future will be using these types of models as common parts of applications. \n",
    "\n",
    "In this project, you'll train an image classifier to recognize different species of flowers. You can imagine using something like this in a phone app that tells you the name of the flower your camera is looking at. In practice you'd train this classifier, then export it for use in your application. We'll be using [this dataset](http://www.robots.ox.ac.uk/~vgg/data/flowers/102/index.html) of 102 flower categories, you can see a few examples below. \n",
    "\n",
    "<img src='assets/Flowers.png' width=500px>\n",
    "\n",
    "The project is broken down into multiple steps:\n",
    "\n",
    "* Load and preprocess the image dataset\n",
    "* Train the image classifier on your dataset\n",
    "* Use the trained classifier to predict image content\n",
    "\n",
    "We'll lead you through each part which you'll implement in Python.\n",
    "\n",
    "When you've completed this project, you'll have an application that can be trained on any set of labeled images. Here your network will be learning about flowers and end up as a command line application. But, what you do with your new skills depends on your imagination and effort in building a dataset. For example, imagine an app where you take a picture of a car, it tells you what the make and model is, then looks up information about it. Go build your own dataset and make something new.\n",
    "\n",
    "First up is importing the packages you'll need. It's good practice to keep all the imports at the beginning of your code. As you work through this notebook and find you need to import a package, make sure to add the import up here.\n",
    "\n",
    "Please make sure if you are running this notebook in the workspace that you have chosen GPU rather than CPU mode."
   ]
  },
  {
   "cell_type": "code",
   "execution_count": 68,
   "metadata": {},
   "outputs": [],
   "source": [
    "# Imports here\n",
    "import torch\n",
    "from torch import nn, optim\n",
    "from torch.nn import Dropout, NLLLoss\n",
    "import torch.nn.functional as f \n",
    "from torchvision import datasets, transforms, models\n",
    "from workspace_utils import active_session\n",
    "from PIL import Image \n",
    "from matplotlib import pyplot as plt\n",
    "import numpy as np\n",
    "from sklearn.preprocessing import StandardScaler as ss\n",
    "scaler=ss()\n",
    "\n",
    "   "
   ]
  },
  {
   "cell_type": "markdown",
   "metadata": {},
   "source": [
    "## Load the data\n",
    "\n",
    "Here you'll use `torchvision` to load the data ([documentation](http://pytorch.org/docs/0.3.0/torchvision/index.html)). The data should be included alongside this notebook, otherwise you can [download it here](https://s3.amazonaws.com/content.udacity-data.com/nd089/flower_data.tar.gz). The dataset is split into three parts, training, validation, and testing. For the training, you'll want to apply transformations such as random scaling, cropping, and flipping. This will help the network generalize leading to better performance. You'll also need to make sure the input data is resized to 224x224 pixels as required by the pre-trained networks.\n",
    "\n",
    "The validation and testing sets are used to measure the model's performance on data it hasn't seen yet. For this you don't want any scaling or rotation transformations, but you'll need to resize then crop the images to the appropriate size.\n",
    "\n",
    "The pre-trained networks you'll use were trained on the ImageNet dataset where each color channel was normalized separately. For all three sets you'll need to normalize the means and standard deviations of the images to what the network expects. For the means, it's `[0.485, 0.456, 0.406]` and for the standard deviations `[0.229, 0.224, 0.225]`, calculated from the ImageNet images.  These values will shift each color channel to be centered at 0 and range from -1 to 1.\n",
    " "
   ]
  },
  {
   "cell_type": "code",
   "execution_count": 15,
   "metadata": {},
   "outputs": [],
   "source": [
    "data_dir = 'flowers'\n",
    "train_dir = data_dir + '/train'\n",
    "valid_dir = data_dir + '/valid'\n",
    "test_dir = data_dir + '/test'"
   ]
  },
  {
   "cell_type": "code",
   "execution_count": 16,
   "metadata": {},
   "outputs": [],
   "source": [
    "# TODO: Define your transforms for the training, validation, and testing sets\n",
    "data_transforms_train = transforms.Compose([transforms.RandomRotation(30),\n",
    "                                           transforms.RandomResizedCrop(224),\n",
    "                                           transforms.RandomHorizontalFlip(),\n",
    "                                           transforms.ToTensor(),\n",
    "                                           transforms.Normalize([0.485, 0.456, 0.406],\n",
    "                                                            [0.229, 0.224, 0.225])])\n",
    "\n",
    "data_transforms_test = transforms.Compose([transforms.Resize(224),\n",
    "                                          transforms.CenterCrop(224),\n",
    "                                          transforms.ToTensor(),\n",
    "                                          transforms.Normalize([0.485, 0.456, 0.406],\n",
    "                                                            [0.229, 0.224, 0.225])])\n",
    "\n",
    "\n",
    "\n",
    "# TODO: Load the datasets with ImageFolder\n",
    "train_image_datasets = datasets.ImageFolder(train_dir,transform=data_transforms_train)\n",
    "test_image_datasets = datasets.ImageFolder(test_dir, transform=data_transforms_test)\n",
    "valid_image_datasets = datasets.ImageFolder(valid_dir, transform=data_transforms_test)\n",
    "# TODO: Using the image datasets and the trainforms, define the dataloaders\n",
    "dataloaders = {'trainloader':torch.utils.data.DataLoader(train_image_datasets, batch_size=64, shuffle=True),\n",
    "               'testloader' :torch.utils.data.DataLoader(test_image_datasets, batch_size=64),\n",
    "               'validloader':torch.utils.data.DataLoader(valid_image_datasets, batch_size=64)}"
   ]
  },
  {
   "cell_type": "markdown",
   "metadata": {},
   "source": [
    "### Label mapping\n",
    "\n",
    "You'll also need to load in a mapping from category label to category name. You can find this in the file `cat_to_name.json`. It's a JSON object which you can read in with the [`json` module](https://docs.python.org/2/library/json.html). This will give you a dictionary mapping the integer encoded categories to the actual names of the flowers."
   ]
  },
  {
   "cell_type": "code",
   "execution_count": 17,
   "metadata": {},
   "outputs": [],
   "source": [
    "import json\n",
    "\n",
    "with open('cat_to_name.json', 'r') as f:\n",
    "    cat_to_name = json.load(f)"
   ]
  },
  {
   "cell_type": "markdown",
   "metadata": {},
   "source": [
    "# Building and training the classifier\n",
    "\n",
    "Now that the data is ready, it's time to build and train the classifier. As usual, you should use one of the pretrained models from `torchvision.models` to get the image features. Build and train a new feed-forward classifier using those features.\n",
    "\n",
    "We're going to leave this part up to you. Refer to [the rubric](https://review.udacity.com/#!/rubrics/1663/view) for guidance on successfully completing this section. Things you'll need to do:\n",
    "\n",
    "* Load a [pre-trained network](http://pytorch.org/docs/master/torchvision/models.html) (If you need a starting point, the VGG networks work great and are straightforward to use)\n",
    "* Define a new, untrained feed-forward network as a classifier, using ReLU activations and dropout\n",
    "* Train the classifier layers using backpropagation using the pre-trained network to get the features\n",
    "* Track the loss and accuracy on the validation set to determine the best hyperparameters\n",
    "\n",
    "We've left a cell open for you below, but use as many as you need. Our advice is to break the problem up into smaller parts you can run separately. Check that each part is doing what you expect, then move on to the next. You'll likely find that as you work through each part, you'll need to go back and modify your previous code. This is totally normal!\n",
    "\n",
    "When training make sure you're updating only the weights of the feed-forward network. You should be able to get the validation accuracy above 70% if you build everything right. Make sure to try different hyperparameters (learning rate, units in the classifier, epochs, etc) to find the best model. Save those hyperparameters to use as default values in the next part of the project.\n",
    "\n",
    "One last important tip if you're using the workspace to run your code: To avoid having your workspace disconnect during the long-running tasks in this notebook, please read in the earlier page in this lesson called Intro to GPU Workspaces about Keeping Your Session Active. You'll want to include code from the workspace_utils.py module."
   ]
  },
  {
   "cell_type": "code",
   "execution_count": 18,
   "metadata": {},
   "outputs": [],
   "source": [
    "# TODO: Build and train your network\n",
    "\n",
    "#Loading model from torchvision and freezing it's feature parameters\n",
    "model=models.resnet152(pretrained=True)\n",
    "for param in model.parameters():\n",
    "    param.requires_grad=False\n"
   ]
  },
  {
   "cell_type": "code",
   "execution_count": 19,
   "metadata": {},
   "outputs": [],
   "source": [
    "#Defining model architecture\n",
    "model.fc=nn.Sequential(nn.Linear(2048,1024),\n",
    "                       nn.ReLU(),\n",
    "                       Dropout(0.2),\n",
    "                       nn.Linear(1024,512),\n",
    "                       nn.ReLU(),\n",
    "                       Dropout(0.2),\n",
    "                       nn.Linear(512,102),\n",
    "                       nn.LogSoftmax(dim=1))\n",
    "\n"
   ]
  },
  {
   "cell_type": "code",
   "execution_count": 20,
   "metadata": {},
   "outputs": [],
   "source": [
    "#Setting Hyperparameters and other helper variables\n",
    "steps=0\n",
    "print_every=10\n",
    "epochs=10\n",
    "validation_loss=0\n",
    "criterion=NLLLoss()\n"
   ]
  },
  {
   "cell_type": "code",
   "execution_count": 8,
   "metadata": {
    "scrolled": false
   },
   "outputs": [
    {
     "name": "stdout",
     "output_type": "stream",
     "text": [
      "Validation Accuracy is: 0.056490384615384616...Validation loss is : 4.477657354795015...\n",
      "Validation Accuracy is: 0.08774038461538461...Validation loss is : 4.351774325737586...\n",
      "Validation Accuracy is: 0.16687499989683813...Validation loss is : 4.101612329483032...\n",
      "Validation Accuracy is: 0.154182692273305...Validation loss is : 3.7531856206747203...\n",
      "Validation Accuracy is: 0.2967788462455456...Validation loss is : 3.303257575401893...\n",
      "Validation Accuracy is: 0.33355769285788905...Validation loss is : 2.8942561332996073...\n",
      "Validation Accuracy is: 0.40302884578704834...Validation loss is : 2.4987818277799168...\n",
      "Validation Accuracy is: 0.4506250000916995...Validation loss is : 2.1714675151384792...\n",
      "Validation Accuracy is: 0.5202884605297675...Validation loss is : 1.9387467274299035...\n",
      "Validation Accuracy is: 0.5137980763728802...Validation loss is : 1.7729938947237456...\n",
      "Validation Accuracy is: 0.5904326943250803...Validation loss is : 1.561861345401177...\n",
      "Validation Accuracy is: 0.6100961543046511...Validation loss is : 1.4256735398219182...\n",
      "Validation Accuracy is: 0.6508653851655813...Validation loss is : 1.2909129491219153...\n",
      "Validation Accuracy is: 0.6663461556801429...Validation loss is : 1.2461473437455983...\n",
      "Validation Accuracy is: 0.6732211525623615...Validation loss is : 1.167962603844129...\n",
      "Validation Accuracy is: 0.6957211540295527...Validation loss is : 1.1144387790789971...\n",
      "Validation Accuracy is: 0.7013461543963506...Validation loss is : 1.0942559024462333...\n",
      "Validation Accuracy is: 0.7341826924910912...Validation loss is : 0.985090237397414...\n",
      "Validation Accuracy is: 0.7250480789404649...Validation loss is : 1.0032300055027008...\n",
      "Validation Accuracy is: 0.7422115390117352...Validation loss is : 0.9176372014559232...\n",
      "Validation Accuracy is: 0.6915865402955276...Validation loss is : 1.129103422164917...\n",
      "Validation Accuracy is: 0.7614423082425044...Validation loss is : 0.8887268820634255...\n",
      "Validation Accuracy is: 0.7852403842485868...Validation loss is : 0.7851787759707525...\n",
      "Validation Accuracy is: 0.7947596174020034...Validation loss is : 0.8115806659826865...\n",
      "Validation Accuracy is: 0.7317788463372451...Validation loss is : 0.9153538117041955...\n",
      "Validation Accuracy is: 0.8104807688639715...Validation loss is : 0.7126107445129981...\n",
      "Validation Accuracy is: 0.7971153855323792...Validation loss is : 0.7651255188079981...\n",
      "Validation Accuracy is: 0.7748557695975671...Validation loss is : 0.8134811801406053...\n",
      "Validation Accuracy is: 0.7806730774732736...Validation loss is : 0.7605335104923981...\n",
      "Validation Accuracy is: 0.8077884637392484...Validation loss is : 0.6919883753244693...\n",
      "Validation Accuracy is: 0.8010576917574956...Validation loss is : 0.6996055910220513...\n",
      "Validation Accuracy is: 0.804375002017388...Validation loss is : 0.6843773711186188...\n",
      "Validation Accuracy is: 0.787211537361145...Validation loss is : 0.7299927965952799...\n",
      "Validation Accuracy is: 0.8055288470708407...Validation loss is : 0.7399754123045847...\n",
      "Validation Accuracy is: 0.8441346150178176...Validation loss is : 0.5884723405425365...\n",
      "Validation Accuracy is: 0.8338461518287659...Validation loss is : 0.6021346381077399...\n",
      "Validation Accuracy is: 0.8245673087927011...Validation loss is : 0.6661763810194455...\n",
      "Validation Accuracy is: 0.8266346133672274...Validation loss is : 0.6495076013872256...\n",
      "Validation Accuracy is: 0.8635576917574956...Validation loss is : 0.5274239778518677...\n",
      "Validation Accuracy is: 0.8462019241773165...Validation loss is : 0.6079586142530808...\n",
      "Validation Accuracy is: 0.8621634611716638...Validation loss is : 0.5420942730628527...\n",
      "Validation Accuracy is: 0.851874997982612...Validation loss is : 0.5367527612699912...\n",
      "Validation Accuracy is: 0.8733173058583186...Validation loss is : 0.5094583017321733...\n",
      "Validation Accuracy is: 0.8563461532959571...Validation loss is : 0.5421343101904943...\n",
      "Validation Accuracy is: 0.8635576917574956...Validation loss is : 0.5157768130302429...\n",
      "Validation Accuracy is: 0.8801923073255099...Validation loss is : 0.4675503811584069...\n",
      "Validation Accuracy is: 0.8354326945084792...Validation loss is : 0.5946581862293757...\n",
      "Validation Accuracy is: 0.8599519225267264...Validation loss is : 0.4867396480762042...\n",
      "Validation Accuracy is: 0.8419230763728802...Validation loss is : 0.5827199805241364...\n",
      "Validation Accuracy is: 0.8570192318696243...Validation loss is : 0.5008759298003637...\n",
      "Validation Accuracy is: 0.8783173056749197...Validation loss is : 0.4397617263289598...\n",
      "Validation Accuracy is: 0.8757211520121648...Validation loss is : 0.44977258518338203...\n",
      "Validation Accuracy is: 0.8805288443198571...Validation loss is : 0.4475163725706247...\n",
      "Validation Accuracy is: 0.8411057683137747...Validation loss is : 0.5151297387022239...\n",
      "Validation Accuracy is: 0.8549519227101252...Validation loss is : 0.49883890266601855...\n",
      "Validation Accuracy is: 0.8717788457870483...Validation loss is : 0.4922951849607321...\n",
      "Validation Accuracy is: 0.8777884611716638...Validation loss is : 0.45807260733384353...\n",
      "Validation Accuracy is: 0.8573557688639715...Validation loss is : 0.5299371400704751...\n",
      "Validation Accuracy is: 0.8709134597044724...Validation loss is : 0.514945520231357...\n",
      "Validation Accuracy is: 0.8973557673967801...Validation loss is : 0.41922389887846434...\n",
      "Validation Accuracy is: 0.8645673073255099...Validation loss is : 0.4568633156327101...\n",
      "Validation Accuracy is: 0.8929326901069055...Validation loss is : 0.41663599415467334...\n",
      "Validation Accuracy is: 0.8693749996332022...Validation loss is : 0.489042700196688...\n",
      "Validation Accuracy is: 0.8692307701477637...Validation loss is : 0.4765182464168622...\n",
      "Validation Accuracy is: 0.8743749994498032...Validation loss is : 0.4624110156526932...\n",
      "Validation Accuracy is: 0.8773076901069055...Validation loss is : 0.4320615358077563...\n",
      "Validation Accuracy is: 0.8872596163016099...Validation loss is : 0.4162487811767138...\n",
      "Validation Accuracy is: 0.8813942304024329...Validation loss is : 0.4416295565091647...\n",
      "Validation Accuracy is: 0.8762500011003934...Validation loss is : 0.4459580375024906...\n",
      "Validation Accuracy is: 0.8749038439530593...Validation loss is : 0.43023627509291357...\n",
      "Validation Accuracy is: 0.8801923073255099...Validation loss is : 0.44919043893997485...\n",
      "Validation Accuracy is: 0.8652884593376746...Validation loss is : 0.4807959605868046...\n",
      "Validation Accuracy is: 0.8841346135506263...Validation loss is : 0.41208511103804296...\n",
      "Validation Accuracy is: 0.8896153844319857...Validation loss is : 0.46248315332027584...\n",
      "Validation Accuracy is: 0.8848557701477637...Validation loss is : 0.45482625984228575...\n",
      "Validation Accuracy is: 0.8913461520121648...Validation loss is : 0.408472368063835...\n",
      "Validation Accuracy is: 0.898221153479356...Validation loss is : 0.41422569293242234...\n",
      "Validation Accuracy is: 0.8865384597044724...Validation loss is : 0.4485472079653006...\n",
      "Validation Accuracy is: 0.8829326904737033...Validation loss is : 0.41399589295570666...\n",
      "Validation Accuracy is: 0.8858653857157781...Validation loss is : 0.4310112793285113...\n",
      "Validation Accuracy is: 0.900288462638855...Validation loss is : 0.35607146471738815...\n",
      "Validation Accuracy is: 0.8759134595210736...Validation loss is : 0.460367100743147...\n",
      "Validation Accuracy is: 0.896490385899177...Validation loss is : 0.3809885737987665...\n",
      "Validation Accuracy is: 0.8966826934080857...Validation loss is : 0.37717878675231564...\n",
      "Validation Accuracy is: 0.8915384595210736...Validation loss is : 0.43872012857061166...\n",
      "Validation Accuracy is: 0.9126442304024329...Validation loss is : 0.3370755836367607...\n",
      "Validation Accuracy is: 0.9129807673967801...Validation loss is : 0.3499500619677397...\n",
      "Validation Accuracy is: 0.8687019210595351...Validation loss is : 0.43790781841828275...\n",
      "Validation Accuracy is: 0.8970192304024329...Validation loss is : 0.4088410809636116...\n",
      "Validation Accuracy is: 0.9062980780234704...Validation loss is : 0.35597525708950484...\n",
      "Validation Accuracy is: 0.884663462638855...Validation loss is : 0.4283246776232353...\n",
      "Validation Accuracy is: 0.9040384613550626...Validation loss is : 0.3659875616431236...\n",
      "Validation Accuracy is: 0.8753846150178176...Validation loss is : 0.4488137811422348...\n",
      "Validation Accuracy is: 0.8863942302190341...Validation loss is : 0.40809629227106387...\n",
      "Validation Accuracy is: 0.8922115380947406...Validation loss is : 0.38023418474655885...\n",
      "Validation Accuracy is: 0.8750480780234704...Validation loss is : 0.44471234283768213...\n",
      "Validation Accuracy is: 0.9150480765562791...Validation loss is : 0.33946620758909446...\n",
      "Validation Accuracy is: 0.8946153842485868...Validation loss is : 0.41343441204382825...\n",
      "Validation Accuracy is: 0.9006249996332022...Validation loss is : 0.33166301479706395...\n",
      "Validation Accuracy is: 0.9014903857157781...Validation loss is : 0.36924279767733353...\n"
     ]
    }
   ],
   "source": [
    "#Training Network\n",
    "device = torch.device(\"cuda\" if torch.cuda.is_available() else \"cpu\")\n",
    "model.to(device)\n",
    "optimizer=optim.Adam(model.fc.parameters(), lr=0.001)\n",
    "with active_session():\n",
    "\n",
    "     for e in range(epochs):\n",
    "        steps=0        \n",
    "        for images, lables in dataloaders['trainloader']:\n",
    "            steps+=1\n",
    "            images, lables = images.to(device), lables.to(device)\n",
    "        \n",
    "            optimizer.zero_grad()\n",
    "            logists=model(images)\n",
    "            loss=criterion(logists, lables)\n",
    "            loss.backward()\n",
    "            optimizer.step()\n",
    "        \n",
    "            if steps % print_every == 0:\n",
    "                accuracy=0\n",
    "                model.eval()\n",
    "                validation_loss=0\n",
    "                with torch.no_grad():\n",
    "                    \n",
    "                    for images, lables in dataloaders['validloader']:\n",
    "                        images, lables = images.to(device), lables.to(device)\n",
    "                        logits=model(images)\n",
    "                        new_loss=criterion(logits, lables)\n",
    "                        validation_loss+=new_loss.item()\n",
    "                        #calculating accuracy\n",
    "                        ps=torch.exp(logits)\n",
    "                        top_p, top_class=ps.topk(1,dim=1)\n",
    "                        equal=top_class==lables.view(*top_class.shape)\n",
    "                        accuracy+=torch.mean(equal.type(torch.FloatTensor)).item()\n",
    "                    model.train() \n",
    "                    print (f\"Validation Accuracy is: {accuracy/len(dataloaders['validloader'])}...\"\n",
    "                           f\"Validation loss is : {validation_loss/len(dataloaders['validloader'])}...\"\n",
    "                           )\n",
    "                \n",
    "                \n",
    "\n",
    "                \n",
    "                "
   ]
  },
  {
   "cell_type": "markdown",
   "metadata": {},
   "source": [
    "## Testing your network\n",
    "\n",
    "It's good practice to test your trained network on test data, images the network has never seen either in training or validation. This will give you a good estimate for the model's performance on completely new images. Run the test images through the network and measure the accuracy, the same way you did validation. You should be able to reach around 70% accuracy on the test set if the model has been trained well."
   ]
  },
  {
   "cell_type": "code",
   "execution_count": 14,
   "metadata": {},
   "outputs": [
    {
     "name": "stdout",
     "output_type": "stream",
     "text": [
      "Accuracy is :0.8734210041853098\n"
     ]
    }
   ],
   "source": [
    "# TODO: Do validation on the test set\n",
    "model.eval()\n",
    "\n",
    "with torch.no_grad():\n",
    "    accuracy=0\n",
    "    for images, lables in dataloaders['testloader']:\n",
    "        images, lables=images.to(device), lables.to(device)\n",
    "        logps=model(images)\n",
    "        top_p, top_class=logps.topk(1,dim=1)\n",
    "        equals=top_class==lables.view(*top_class.shape)\n",
    "        accuracy+=torch.mean(equals.type(torch.FloatTensor)).item()\n",
    "    print(f\"Accuracy is :{accuracy/len(dataloaders['testloader'])}\")\n",
    "         \n",
    "        "
   ]
  },
  {
   "cell_type": "markdown",
   "metadata": {},
   "source": [
    "## Save the checkpoint\n",
    "\n",
    "Now that your network is trained, save the model so you can load it later for making predictions. You probably want to save other things such as the mapping of classes to indices which you get from one of the image datasets: `image_datasets['train'].class_to_idx`. You can attach this to the model as an attribute which makes inference easier later on.\n",
    "\n",
    "```model.class_to_idx = image_datasets['train'].class_to_idx```\n",
    "\n",
    "Remember that you'll want to completely rebuild the model later so you can use it for inference. Make sure to include any information you need in the checkpoint. If you want to load the model and keep training, you'll want to save the number of epochs as well as the optimizer state, `optimizer.state_dict`. You'll likely want to use this trained model in the next part of the project, so best to save it now."
   ]
  },
  {
   "cell_type": "code",
   "execution_count": 11,
   "metadata": {},
   "outputs": [],
   "source": [
    "# TODO: Save the checkpoint \n",
    "checkpoint={'state_dict':model.state_dict()}\n",
    "torch.save(checkpoint,'checkpoint.pth')"
   ]
  },
  {
   "cell_type": "markdown",
   "metadata": {},
   "source": [
    "## Loading the checkpoint\n",
    "\n",
    "At this point it's good to write a function that can load a checkpoint and rebuild the model. That way you can come back to this project and keep working on it without having to retrain the network."
   ]
  },
  {
   "cell_type": "code",
   "execution_count": 12,
   "metadata": {},
   "outputs": [],
   "source": [
    "state_dict=torch.load('checkpoint.pth')"
   ]
  },
  {
   "cell_type": "code",
   "execution_count": 22,
   "metadata": {},
   "outputs": [],
   "source": [
    "# TODO: Write a function that loads a checkpoint and rebuilds the model\n",
    "def load_checkpoint(filepath):\n",
    "    checkpoint=torch.load(filepath)\n",
    "    model.fc=nn.Sequential(nn.Linear(2048,1024),\n",
    "                       nn.ReLU(),\n",
    "                       Dropout(0.2),\n",
    "                       nn.Linear(1024,512),\n",
    "                       nn.ReLU(),\n",
    "                       Dropout(0.2),\n",
    "                       nn.Linear(512,102),\n",
    "                       nn.LogSoftmax(dim=1))\n",
    "    model.load_state_dict(checkpoint['state_dict'])\n",
    "    return model\n",
    "    \n",
    "    \n",
    "model=load_checkpoint('checkpoint.pth')    "
   ]
  },
  {
   "cell_type": "markdown",
   "metadata": {},
   "source": [
    "# Inference for classification\n",
    "\n",
    "Now you'll write a function to use a trained network for inference. That is, you'll pass an image into the network and predict the class of the flower in the image. Write a function called `predict` that takes an image and a model, then returns the top $K$ most likely classes along with the probabilities. It should look like \n",
    "\n",
    "```python\n",
    "probs, classes = predict(image_path, model)\n",
    "print(probs)\n",
    "print(classes)\n",
    "> [ 0.01558163  0.01541934  0.01452626  0.01443549  0.01407339]\n",
    "> ['70', '3', '45', '62', '55']\n",
    "```\n",
    "\n",
    "First you'll need to handle processing the input image such that it can be used in your network. \n",
    "\n",
    "## Image Preprocessing\n",
    "\n",
    "You'll want to use `PIL` to load the image ([documentation](https://pillow.readthedocs.io/en/latest/reference/Image.html)). It's best to write a function that preprocesses the image so it can be used as input for the model. This function should process the images in the same manner used for training. \n",
    "\n",
    "First, resize the images where the shortest side is 256 pixels, keeping the aspect ratio. This can be done with the [`thumbnail`](http://pillow.readthedocs.io/en/3.1.x/reference/Image.html#PIL.Image.Image.thumbnail) or [`resize`](http://pillow.readthedocs.io/en/3.1.x/reference/Image.html#PIL.Image.Image.thumbnail) methods. Then you'll need to crop out the center 224x224 portion of the image.\n",
    "\n",
    "Color channels of images are typically encoded as integers 0-255, but the model expected floats 0-1. You'll need to convert the values. It's easiest with a Numpy array, which you can get from a PIL image like so `np_image = np.array(pil_image)`.\n",
    "\n",
    "As before, the network expects the images to be normalized in a specific way. For the means, it's `[0.485, 0.456, 0.406]` and for the standard deviations `[0.229, 0.224, 0.225]`. You'll want to subtract the means from each color channel, then divide by the standard deviation. \n",
    "\n",
    "And finally, PyTorch expects the color channel to be the first dimension but it's the third dimension in the PIL image and Numpy array. You can reorder dimensions using [`ndarray.transpose`](https://docs.scipy.org/doc/numpy-1.13.0/reference/generated/numpy.ndarray.transpose.html). The color channel needs to be first and retain the order of the other two dimensions."
   ]
  },
  {
   "cell_type": "code",
   "execution_count": 146,
   "metadata": {},
   "outputs": [],
   "source": [
    "def process_image(image):\n",
    "    ''' Scales, crops, and normalizes a PIL image for a PyTorch model,\n",
    "        returns an Numpy array\n",
    "    '''\n",
    "    # TODO: Process a PIL image for use in a PyTorch model\n",
    "    im=Image.open(image)\n",
    "    trans=transforms.Compose([transforms.Resize(256),\n",
    "                          transforms.CenterCrop(224),\n",
    "                          transforms.ToTensor(),\n",
    "                          transforms.Normalize([0.485, 0.456, 0.406],\n",
    "                                             [0.229, 0.224, 0.225])])\n",
    "    \n",
    "                                         \n",
    "    trans_image=trans(im)\n",
    "    array=np.asarray(im_new)\n",
    "    return array  "
   ]
  },
  {
   "cell_type": "markdown",
   "metadata": {},
   "source": [
    "To check your work, the function below converts a PyTorch tensor and displays it in the notebook. If your `process_image` function works, running the output through this function should return the original image (except for the cropped out portions)."
   ]
  },
  {
   "cell_type": "code",
   "execution_count": 140,
   "metadata": {},
   "outputs": [],
   "source": [
    "def imshow(image, ax=None, title=None):\n",
    "    if ax is None:\n",
    "        fig, ax = plt.subplots()\n",
    "    \n",
    "    # PyTorch tensors assume the color channel is the first dimension\n",
    "    # but matplotlib assumes is the third dimension\n",
    "    image = image.transpose(1, 2)\n",
    "    \n",
    "    # Undo preprocessing\n",
    "    mean = np.array([0.485, 0.456, 0.406])\n",
    "    std = np.array([0.229, 0.224, 0.225])\n",
    "    image = std * image + mean\n",
    "    \n",
    "    # Image needs to be clipped between 0 and 1 or it looks like noise when displayed\n",
    "    image = np.clip(image, 0, 1)\n",
    "    \n",
    "    ax.imshow(image)\n",
    "    \n",
    "    return ax"
   ]
  },
  {
   "cell_type": "markdown",
   "metadata": {},
   "source": [
    "## Class Prediction\n",
    "\n",
    "Once you can get images in the correct format, it's time to write a function for making predictions with your model. A common practice is to predict the top 5 or so (usually called top-$K$) most probable classes. You'll want to calculate the class probabilities then find the $K$ largest values.\n",
    "\n",
    "To get the top $K$ largest values in a tensor use [`x.topk(k)`](http://pytorch.org/docs/master/torch.html#torch.topk). This method returns both the highest `k` probabilities and the indices of those probabilities corresponding to the classes. You need to convert from these indices to the actual class labels using `class_to_idx` which hopefully you added to the model or from an `ImageFolder` you used to load the data ([see here](#Save-the-checkpoint)). Make sure to invert the dictionary so you get a mapping from index to class as well.\n",
    "\n",
    "Again, this method should take a path to an image and a model checkpoint, then return the probabilities and classes.\n",
    "\n",
    "```python\n",
    "probs, classes = predict(image_path, model)\n",
    "print(probs)\n",
    "print(classes)\n",
    "> [ 0.01558163  0.01541934  0.01452626  0.01443549  0.01407339]\n",
    "> ['70', '3', '45', '62', '55']\n",
    "```"
   ]
  },
  {
   "cell_type": "code",
   "execution_count": 117,
   "metadata": {},
   "outputs": [],
   "source": [
    "def predict(image_path, model, topk=5):\n",
    "    ''' Predict the class (or classes) of an image using a trained deep learning model.\n",
    "    '''\n",
    "    #model.eval()\n",
    "    image=torch.FloatTensor(process_image(image_path))\n",
    "    image=image.unsqueeze(0)\n",
    "    logps=model(image)\n",
    "    top_p, top_class=logps.topk(topk,dim=1)\n",
    "    return top_p.detach().numpy(),top_class.detach().numpy()\n",
    "\n",
    "    # TODO: Implement the code to predict the class from an image file"
   ]
  },
  {
   "cell_type": "markdown",
   "metadata": {},
   "source": [
    "## Sanity Checking\n",
    "\n",
    "Now that you can use a trained model for predictions, check to make sure it makes sense. Even if the testing accuracy is high, it's always good to check that there aren't obvious bugs. Use `matplotlib` to plot the probabilities for the top 5 classes as a bar graph, along with the input image. It should look like this:\n",
    "\n",
    "<img src='assets/inference_example.png' width=300px>\n",
    "\n",
    "You can convert from the class integer encoding to actual flower names with the `cat_to_name.json` file (should have been loaded earlier in the notebook). To show a PyTorch tensor as an image, use the `imshow` function defined above."
   ]
  },
  {
   "cell_type": "code",
   "execution_count": 149,
   "metadata": {},
   "outputs": [
    {
     "data": {
      "image/png": "[encoded data removed]",
      "text/plain": [
       "<matplotlib.figure.Figure at 0x7f8c1c70b668>"
      ]
     },
     "metadata": {
      "needs_background": "light"
     },
     "output_type": "display_data"
    }
   ],
   "source": [
    "# TODO: Display an image along with the top 5 classes\n",
    "probs_x,y_labels=predict('/home/workspace/monkshood.jpg',model)\n",
    "path = ('/home/workspace/monkshood.jpg') \n",
    "probs, classes = predict(path, model)\n",
    "image = process_image(path) \n",
    "index = classes[0]\n",
    "names= [cat_to_name[str(name)] for name in index]\n",
    "y_pos= np.arange(len(names))\n",
    "plt.bar(probs_x.squeeze(),y_pos,color='blue')\n",
    "plt.yticks(y_pos, names)\n",
    "plt.show()"
   ]
  },
  {
   "cell_type": "code",
   "execution_count": null,
   "metadata": {},
   "outputs": [],
   "source": []
  },
  {
   "cell_type": "code",
   "execution_count": null,
   "metadata": {},
   "outputs": [],
   "source": []
  },
  {
   "cell_type": "code",
   "execution_count": null,
   "metadata": {},
   "outputs": [],
   "source": []
  },
  {
   "cell_type": "code",
   "execution_count": null,
   "metadata": {},
   "outputs": [],
   "source": []
  },
  {
   "cell_type": "code",
   "execution_count": null,
   "metadata": {},
   "outputs": [],
   "source": []
  },
  {
   "cell_type": "code",
   "execution_count": null,
   "metadata": {},
   "outputs": [],
   "source": []
  },
  {
   "cell_type": "code",
   "execution_count": null,
   "metadata": {},
   "outputs": [],
   "source": [
    "\n",
    "\n"
   ]
  },
  {
   "cell_type": "code",
   "execution_count": null,
   "metadata": {},
   "outputs": [],
   "source": []
  },
  {
   "cell_type": "code",
   "execution_count": null,
   "metadata": {},
   "outputs": [],
   "source": []
  },
  {
   "cell_type": "code",
   "execution_count": null,
   "metadata": {},
   "outputs": [],
   "source": []
  }
 ],
 "metadata": {
  "kernelspec": {
   "display_name": "Python 3",
   "language": "python",
   "name": "python3"
  },
  "language_info": {
   "codemirror_mode": {
    "name": "ipython",
    "version": 3
   },
   "file_extension": ".py",
   "mimetype": "text/x-python",
   "name": "python",
   "nbconvert_exporter": "python",
   "pygments_lexer": "ipython3",
   "version": "3.6.3"
  }
 },
 "nbformat": 4,
 "nbformat_minor": 2
}
